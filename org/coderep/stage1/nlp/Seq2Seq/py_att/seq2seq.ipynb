{
 "cells": [
  {
   "cell_type": "code",
   "execution_count": 1,
   "metadata": {
    "collapsed": true
   },
   "outputs": [],
   "source": [
    "import numpy as np\n",
    "import tensorflow as tf\n",
    "import pandas as pd\n",
    "import sys\n",
    "import os"
   ]
  },
  {
   "cell_type": "code",
   "execution_count": 5,
   "metadata": {},
   "outputs": [],
   "source": [
    "import inspect\n",
    "\n",
    "def get_class_info(instance):\n",
    "    infos = inspect.getmembers(instance, predicate=inspect.ismethod)\n",
    "    print(infos)\n",
    "    return infos\n",
    "\n",
    "def get_class_info2(instance,class_only=False,instance_only=False,exclude_internal=True):\n",
    "    def acceptMethod(tup):\n",
    "        #internal function that analyzes the tuples returned by getmembers tup[1] is the \n",
    "        #actual member object\n",
    "        is_method = inspect.ismethod(tup[1])\n",
    "        if is_method:\n",
    "            bound_to = tup[1].im_self\n",
    "            internal = tup[1].im_func.func_name[:2] == '__' and tup[1].im_func.func_name[-2:] == '__'\n",
    "            if internal and exclude_internal:\n",
    "                include = False\n",
    "            else:\n",
    "                include = (bound_to == the_class and not instance_only) or (bound_to == None and not class_only)\n",
    "        else:\n",
    "            include = False\n",
    "        return include\n",
    "    #uses filter to return results according to internal function and arguments\n",
    "    return filter(acceptMethod,inspect.getmembers(the_class))"
   ]
  },
  {
   "cell_type": "code",
   "execution_count": null,
   "metadata": {
    "collapsed": true
   },
   "outputs": [],
   "source": []
  },
  {
   "cell_type": "code",
   "execution_count": 3,
   "metadata": {},
   "outputs": [
    {
     "data": {
      "text/plain": [
       "<generator object <genexpr> at 0x000002057CEE2F68>"
      ]
     },
     "execution_count": 3,
     "metadata": {},
     "output_type": "execute_result"
    }
   ],
   "source": [
    "datas = [0, 1, 4, 9, 16, 25, 36, 49, 64, 81]\n",
    "g = (x ** 2 for x in datas)\n",
    "g"
   ]
  },
  {
   "cell_type": "code",
   "execution_count": null,
   "metadata": {
    "collapsed": true
   },
   "outputs": [],
   "source": []
  }
 ],
 "metadata": {
  "kernelspec": {
   "display_name": "Python 3",
   "language": "python",
   "name": "python3"
  },
  "language_info": {
   "codemirror_mode": {
    "name": "ipython",
    "version": 3
   },
   "file_extension": ".py",
   "mimetype": "text/x-python",
   "name": "python",
   "nbconvert_exporter": "python",
   "pygments_lexer": "ipython3",
   "version": "3.5.2"
  }
 },
 "nbformat": 4,
 "nbformat_minor": 2
}
